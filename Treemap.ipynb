{
 "cells": [
  {
   "cell_type": "code",
   "execution_count": 2,
   "metadata": {},
   "outputs": [],
   "source": [
    "import pandas as pd\n",
    "import numpy as np\n",
    "import datetime\n",
    "import requests\n",
    "import plotly.express as px\n",
    "import plotly.graph_objects as go\n",
    "from plotly.subplots import make_subplots\n",
    "from requests.exceptions import ConnectionError\n",
    "from bs4 import BeautifulSoup"
   ]
  },
  {
   "cell_type": "code",
   "execution_count": 4,
   "metadata": {},
   "outputs": [],
   "source": [
    "# Obtiene todos los textos dentro de spans para un web_content especificado\n",
    "\n",
    "def web_content_div(web_content,class_path):\n",
    "    web_content_div = web_content.find_all('div',{'class': class_path})\n",
    "    try:\n",
    "        spans = web_content_div[0].find_all('fin-streamer')\n",
    "        texts = [span.get_text() for span in spans]\n",
    "    except IndexError:\n",
    "        texts = []\n",
    "    \n",
    "    return texts"
   ]
  },
  {
   "cell_type": "code",
   "execution_count": 5,
   "metadata": {},
   "outputs": [],
   "source": [
    "# Extrae la información de precio, % cambio y market cap para un código de stock\n",
    "def real_time_price(stock_code):\n",
    "   \n",
    "    url='https://finance.yahoo.com/quote/'+ stock_code + '?p=' + stock_code + '&.tsrc=fin-srch'\n",
    "    \n",
    "    try:\n",
    "        r = requests.get(url)\n",
    "        web_content = BeautifulSoup(r.text, 'lxml')\n",
    "        \n",
    "        texts = web_content_div(web_content, \"My(6px) Pos(r) smartphone_Mt(6px) W(100%)\")\n",
    "       \n",
    "        if texts != []:\n",
    "            price, change = texts[0], texts[2]\n",
    "        else:\n",
    "            price, change = [1], [1]\n",
    "            print('Nothing found')\n",
    "        data=pd.read_html(url)     \n",
    "        market_cap=df=data[1].loc[0,1]\n",
    "        \n",
    "    except ConnectionError:\n",
    "        price, change, market_cap = [], [], []\n",
    "        print('Connection Error')\n",
    "    return price, change, market_cap\n",
    "\n"
   ]
  },
  {
   "cell_type": "code",
   "execution_count": 6,
   "metadata": {},
   "outputs": [
    {
     "data": {
      "text/html": [
       "<div>\n",
       "<style scoped>\n",
       "    .dataframe tbody tr th:only-of-type {\n",
       "        vertical-align: middle;\n",
       "    }\n",
       "\n",
       "    .dataframe tbody tr th {\n",
       "        vertical-align: top;\n",
       "    }\n",
       "\n",
       "    .dataframe thead th {\n",
       "        text-align: right;\n",
       "    }\n",
       "</style>\n",
       "<table border=\"1\" class=\"dataframe\">\n",
       "  <thead>\n",
       "    <tr style=\"text-align: right;\">\n",
       "      <th></th>\n",
       "      <th>stock_code</th>\n",
       "      <th>Security</th>\n",
       "      <th>SEC filings</th>\n",
       "      <th>sector</th>\n",
       "      <th>industry</th>\n",
       "      <th>Headquarters Location</th>\n",
       "      <th>Date first added</th>\n",
       "      <th>CIK</th>\n",
       "      <th>Founded</th>\n",
       "    </tr>\n",
       "  </thead>\n",
       "  <tbody>\n",
       "    <tr>\n",
       "      <th>0</th>\n",
       "      <td>MMM</td>\n",
       "      <td>3M</td>\n",
       "      <td>reports</td>\n",
       "      <td>Industrials</td>\n",
       "      <td>Industrial Conglomerates</td>\n",
       "      <td>Saint Paul, Minnesota</td>\n",
       "      <td>1976-08-09</td>\n",
       "      <td>66740</td>\n",
       "      <td>1902</td>\n",
       "    </tr>\n",
       "    <tr>\n",
       "      <th>1</th>\n",
       "      <td>AOS</td>\n",
       "      <td>A. O. Smith</td>\n",
       "      <td>reports</td>\n",
       "      <td>Industrials</td>\n",
       "      <td>Building Products</td>\n",
       "      <td>Milwaukee, Wisconsin</td>\n",
       "      <td>2017-07-26</td>\n",
       "      <td>91142</td>\n",
       "      <td>1916</td>\n",
       "    </tr>\n",
       "    <tr>\n",
       "      <th>2</th>\n",
       "      <td>ABT</td>\n",
       "      <td>Abbott</td>\n",
       "      <td>reports</td>\n",
       "      <td>Health Care</td>\n",
       "      <td>Health Care Equipment</td>\n",
       "      <td>North Chicago, Illinois</td>\n",
       "      <td>1964-03-31</td>\n",
       "      <td>1800</td>\n",
       "      <td>1888</td>\n",
       "    </tr>\n",
       "    <tr>\n",
       "      <th>3</th>\n",
       "      <td>ABBV</td>\n",
       "      <td>AbbVie</td>\n",
       "      <td>reports</td>\n",
       "      <td>Health Care</td>\n",
       "      <td>Pharmaceuticals</td>\n",
       "      <td>North Chicago, Illinois</td>\n",
       "      <td>2012-12-31</td>\n",
       "      <td>1551152</td>\n",
       "      <td>2013 (1888)</td>\n",
       "    </tr>\n",
       "    <tr>\n",
       "      <th>4</th>\n",
       "      <td>ABMD</td>\n",
       "      <td>Abiomed</td>\n",
       "      <td>reports</td>\n",
       "      <td>Health Care</td>\n",
       "      <td>Health Care Equipment</td>\n",
       "      <td>Danvers, Massachusetts</td>\n",
       "      <td>2018-05-31</td>\n",
       "      <td>815094</td>\n",
       "      <td>1981</td>\n",
       "    </tr>\n",
       "    <tr>\n",
       "      <th>...</th>\n",
       "      <td>...</td>\n",
       "      <td>...</td>\n",
       "      <td>...</td>\n",
       "      <td>...</td>\n",
       "      <td>...</td>\n",
       "      <td>...</td>\n",
       "      <td>...</td>\n",
       "      <td>...</td>\n",
       "      <td>...</td>\n",
       "    </tr>\n",
       "    <tr>\n",
       "      <th>498</th>\n",
       "      <td>YUM</td>\n",
       "      <td>Yum! Brands</td>\n",
       "      <td>reports</td>\n",
       "      <td>Consumer Discretionary</td>\n",
       "      <td>Restaurants</td>\n",
       "      <td>Louisville, Kentucky</td>\n",
       "      <td>1997-10-06</td>\n",
       "      <td>1041061</td>\n",
       "      <td>1997</td>\n",
       "    </tr>\n",
       "    <tr>\n",
       "      <th>499</th>\n",
       "      <td>ZBRA</td>\n",
       "      <td>Zebra Technologies</td>\n",
       "      <td>reports</td>\n",
       "      <td>Information Technology</td>\n",
       "      <td>Electronic Equipment &amp; Instruments</td>\n",
       "      <td>Lincolnshire, Illinois</td>\n",
       "      <td>2019-12-23</td>\n",
       "      <td>877212</td>\n",
       "      <td>1969</td>\n",
       "    </tr>\n",
       "    <tr>\n",
       "      <th>500</th>\n",
       "      <td>ZBH</td>\n",
       "      <td>Zimmer Biomet</td>\n",
       "      <td>reports</td>\n",
       "      <td>Health Care</td>\n",
       "      <td>Health Care Equipment</td>\n",
       "      <td>Warsaw, Indiana</td>\n",
       "      <td>2001-08-07</td>\n",
       "      <td>1136869</td>\n",
       "      <td>1927</td>\n",
       "    </tr>\n",
       "    <tr>\n",
       "      <th>501</th>\n",
       "      <td>ZION</td>\n",
       "      <td>Zions Bancorporation</td>\n",
       "      <td>reports</td>\n",
       "      <td>Financials</td>\n",
       "      <td>Regional Banks</td>\n",
       "      <td>Salt Lake City, Utah</td>\n",
       "      <td>2001-06-22</td>\n",
       "      <td>109380</td>\n",
       "      <td>1873</td>\n",
       "    </tr>\n",
       "    <tr>\n",
       "      <th>502</th>\n",
       "      <td>ZTS</td>\n",
       "      <td>Zoetis</td>\n",
       "      <td>reports</td>\n",
       "      <td>Health Care</td>\n",
       "      <td>Pharmaceuticals</td>\n",
       "      <td>Parsippany, New Jersey</td>\n",
       "      <td>2013-06-21</td>\n",
       "      <td>1555280</td>\n",
       "      <td>1952</td>\n",
       "    </tr>\n",
       "  </tbody>\n",
       "</table>\n",
       "<p>503 rows × 9 columns</p>\n",
       "</div>"
      ],
      "text/plain": [
       "    stock_code              Security SEC filings                  sector  \\\n",
       "0          MMM                    3M     reports             Industrials   \n",
       "1          AOS           A. O. Smith     reports             Industrials   \n",
       "2          ABT                Abbott     reports             Health Care   \n",
       "3         ABBV                AbbVie     reports             Health Care   \n",
       "4         ABMD               Abiomed     reports             Health Care   \n",
       "..         ...                   ...         ...                     ...   \n",
       "498        YUM           Yum! Brands     reports  Consumer Discretionary   \n",
       "499       ZBRA    Zebra Technologies     reports  Information Technology   \n",
       "500        ZBH         Zimmer Biomet     reports             Health Care   \n",
       "501       ZION  Zions Bancorporation     reports              Financials   \n",
       "502        ZTS                Zoetis     reports             Health Care   \n",
       "\n",
       "                               industry    Headquarters Location  \\\n",
       "0              Industrial Conglomerates    Saint Paul, Minnesota   \n",
       "1                     Building Products     Milwaukee, Wisconsin   \n",
       "2                 Health Care Equipment  North Chicago, Illinois   \n",
       "3                       Pharmaceuticals  North Chicago, Illinois   \n",
       "4                 Health Care Equipment   Danvers, Massachusetts   \n",
       "..                                  ...                      ...   \n",
       "498                         Restaurants     Louisville, Kentucky   \n",
       "499  Electronic Equipment & Instruments   Lincolnshire, Illinois   \n",
       "500               Health Care Equipment          Warsaw, Indiana   \n",
       "501                      Regional Banks     Salt Lake City, Utah   \n",
       "502                     Pharmaceuticals   Parsippany, New Jersey   \n",
       "\n",
       "    Date first added      CIK      Founded  \n",
       "0         1976-08-09    66740         1902  \n",
       "1         2017-07-26    91142         1916  \n",
       "2         1964-03-31     1800         1888  \n",
       "3         2012-12-31  1551152  2013 (1888)  \n",
       "4         2018-05-31   815094         1981  \n",
       "..               ...      ...          ...  \n",
       "498       1997-10-06  1041061         1997  \n",
       "499       2019-12-23   877212         1969  \n",
       "500       2001-08-07  1136869         1927  \n",
       "501       2001-06-22   109380         1873  \n",
       "502       2013-06-21  1555280         1952  \n",
       "\n",
       "[503 rows x 9 columns]"
      ]
     },
     "execution_count": 6,
     "metadata": {},
     "output_type": "execute_result"
    }
   ],
   "source": [
    "# Extrae tabla de compañías del SP500 de wikipedia\n",
    "sp500url='https://en.wikipedia.org/wiki/List_of_S%26P_500_companies'\n",
    "code_table=pd.read_html(sp500url)\n",
    "symbols = code_table[0]\n",
    "symbols.rename(columns={'Symbol': 'stock_code', 'GICS Sector':'sector', 'GICS Sub-Industry':'industry'}, inplace=True)"
   ]
  },
  {
   "cell_type": "code",
   "execution_count": 19,
   "metadata": {},
   "outputs": [
    {
     "data": {
      "text/plain": [
       "True"
      ]
     },
     "execution_count": 19,
     "metadata": {},
     "output_type": "execute_result"
    }
   ],
   "source": [
    "tickers=symbols['stock_code'].tolist()"
   ]
  },
  {
   "cell_type": "code",
   "execution_count": 20,
   "metadata": {},
   "outputs": [],
   "source": [
    "# reemplaza tickers con '.'\n",
    "\n",
    "for i in range(len(tickers)):\n",
    "    if tickers[i]=='BRK.B':\n",
    "        tickers[i]='BRK-B'\n",
    "    elif tickers[i]=='BF.B':\n",
    "        tickers[i]='BF-B'"
   ]
  },
  {
   "cell_type": "code",
   "execution_count": 23,
   "metadata": {},
   "outputs": [],
   "source": [
    "# Aplica el webscrapping para una lista de tickers\n",
    "\n",
    "tickers = ['AAPL', 'GOOGL','ABBV', 'AMZN', 'TSLA', 'MSFT', 'JNJ', 'HON', 'ETN', 'XOM', 'COP']\n",
    "info = []\n",
    "\n",
    "for stock_code in tickers:\n",
    "    time_stamp = datetime.datetime.now()\n",
    "    time_stamp = time_stamp.strftime('%d-%m-%Y %H:%M:%S')\n",
    "    price, change, market_cap = real_time_price(stock_code)\n",
    "    \n",
    "    info.append(\n",
    "        {\n",
    "            'time_stamp': time_stamp,\n",
    "            'stock_code': stock_code,\n",
    "            'price': price,\n",
    "            'change': change,\n",
    "            'market_cap': market_cap\n",
    "        }  \n",
    "    )\n",
    "prices_df=pd.DataFrame(info)"
   ]
  },
  {
   "cell_type": "code",
   "execution_count": 24,
   "metadata": {},
   "outputs": [
    {
     "name": "stderr",
     "output_type": "stream",
     "text": [
      "C:\\Users\\filip\\AppData\\Local\\Temp\\ipykernel_18816\\911075935.py:3: FutureWarning: The default value of regex will change from True to False in a future version.\n",
      "  df['change']=df['change'].str.replace('[()]','')\n"
     ]
    }
   ],
   "source": [
    "# Join con la tabla de symbols\n",
    "df=pd.merge(prices_df, symbols[['stock_code','sector', 'industry']], on='stock_code', how='left')\n",
    "df['change']=df['change'].str.replace('[()]','')\n",
    "\n"
   ]
  },
  {
   "cell_type": "code",
   "execution_count": 25,
   "metadata": {},
   "outputs": [
    {
     "data": {
      "text/html": [
       "<div>\n",
       "<style scoped>\n",
       "    .dataframe tbody tr th:only-of-type {\n",
       "        vertical-align: middle;\n",
       "    }\n",
       "\n",
       "    .dataframe tbody tr th {\n",
       "        vertical-align: top;\n",
       "    }\n",
       "\n",
       "    .dataframe thead th {\n",
       "        text-align: right;\n",
       "    }\n",
       "</style>\n",
       "<table border=\"1\" class=\"dataframe\">\n",
       "  <thead>\n",
       "    <tr style=\"text-align: right;\">\n",
       "      <th></th>\n",
       "      <th>time_stamp</th>\n",
       "      <th>stock_code</th>\n",
       "      <th>price</th>\n",
       "      <th>change</th>\n",
       "      <th>market_cap</th>\n",
       "      <th>sector</th>\n",
       "      <th>industry</th>\n",
       "    </tr>\n",
       "  </thead>\n",
       "  <tbody>\n",
       "    <tr>\n",
       "      <th>0</th>\n",
       "      <td>05-12-2022 13:48:49</td>\n",
       "      <td>AAPL</td>\n",
       "      <td>146.73</td>\n",
       "      <td>-0.73</td>\n",
       "      <td>2335.000</td>\n",
       "      <td>Information Technology</td>\n",
       "      <td>Technology Hardware, Storage &amp; Peripherals</td>\n",
       "    </tr>\n",
       "    <tr>\n",
       "      <th>1</th>\n",
       "      <td>05-12-2022 13:48:52</td>\n",
       "      <td>GOOGL</td>\n",
       "      <td>100.20</td>\n",
       "      <td>-0.24</td>\n",
       "      <td>1299.000</td>\n",
       "      <td>Communication Services</td>\n",
       "      <td>Interactive Media &amp; Services</td>\n",
       "    </tr>\n",
       "    <tr>\n",
       "      <th>2</th>\n",
       "      <td>05-12-2022 13:48:55</td>\n",
       "      <td>ABBV</td>\n",
       "      <td>163.86</td>\n",
       "      <td>0.12</td>\n",
       "      <td>289.783</td>\n",
       "      <td>Health Care</td>\n",
       "      <td>Pharmaceuticals</td>\n",
       "    </tr>\n",
       "    <tr>\n",
       "      <th>3</th>\n",
       "      <td>05-12-2022 13:48:58</td>\n",
       "      <td>AMZN</td>\n",
       "      <td>92.07</td>\n",
       "      <td>-2.19</td>\n",
       "      <td>939.271</td>\n",
       "      <td>Consumer Discretionary</td>\n",
       "      <td>Internet &amp; Direct Marketing Retail</td>\n",
       "    </tr>\n",
       "    <tr>\n",
       "      <th>4</th>\n",
       "      <td>05-12-2022 13:49:01</td>\n",
       "      <td>TSLA</td>\n",
       "      <td>184.72</td>\n",
       "      <td>-5.20</td>\n",
       "      <td>583.334</td>\n",
       "      <td>Consumer Discretionary</td>\n",
       "      <td>Automobile Manufacturers</td>\n",
       "    </tr>\n",
       "    <tr>\n",
       "      <th>5</th>\n",
       "      <td>05-12-2022 13:49:03</td>\n",
       "      <td>MSFT</td>\n",
       "      <td>251.34</td>\n",
       "      <td>-1.44</td>\n",
       "      <td>1874.000</td>\n",
       "      <td>Information Technology</td>\n",
       "      <td>Systems Software</td>\n",
       "    </tr>\n",
       "    <tr>\n",
       "      <th>6</th>\n",
       "      <td>05-12-2022 13:49:05</td>\n",
       "      <td>JNJ</td>\n",
       "      <td>179.09</td>\n",
       "      <td>0.12</td>\n",
       "      <td>468.221</td>\n",
       "      <td>Health Care</td>\n",
       "      <td>Pharmaceuticals</td>\n",
       "    </tr>\n",
       "    <tr>\n",
       "      <th>7</th>\n",
       "      <td>05-12-2022 13:49:08</td>\n",
       "      <td>HON</td>\n",
       "      <td>216.74</td>\n",
       "      <td>-1.07</td>\n",
       "      <td>145.719</td>\n",
       "      <td>Industrials</td>\n",
       "      <td>Industrial Conglomerates</td>\n",
       "    </tr>\n",
       "    <tr>\n",
       "      <th>8</th>\n",
       "      <td>05-12-2022 13:49:11</td>\n",
       "      <td>ETN</td>\n",
       "      <td>160.99</td>\n",
       "      <td>-1.42</td>\n",
       "      <td>64.024</td>\n",
       "      <td>Industrials</td>\n",
       "      <td>Electrical Components &amp; Equipment</td>\n",
       "    </tr>\n",
       "    <tr>\n",
       "      <th>9</th>\n",
       "      <td>05-12-2022 13:49:14</td>\n",
       "      <td>XOM</td>\n",
       "      <td>108.44</td>\n",
       "      <td>-1.29</td>\n",
       "      <td>446.587</td>\n",
       "      <td>Energy</td>\n",
       "      <td>Integrated Oil &amp; Gas</td>\n",
       "    </tr>\n",
       "    <tr>\n",
       "      <th>10</th>\n",
       "      <td>05-12-2022 13:49:17</td>\n",
       "      <td>COP</td>\n",
       "      <td>121.45</td>\n",
       "      <td>-0.60</td>\n",
       "      <td>151.335</td>\n",
       "      <td>Energy</td>\n",
       "      <td>Oil &amp; Gas Exploration &amp; Production</td>\n",
       "    </tr>\n",
       "  </tbody>\n",
       "</table>\n",
       "</div>"
      ],
      "text/plain": [
       "             time_stamp stock_code   price  change  market_cap  \\\n",
       "0   05-12-2022 13:48:49       AAPL  146.73   -0.73    2335.000   \n",
       "1   05-12-2022 13:48:52      GOOGL  100.20   -0.24    1299.000   \n",
       "2   05-12-2022 13:48:55       ABBV  163.86    0.12     289.783   \n",
       "3   05-12-2022 13:48:58       AMZN   92.07   -2.19     939.271   \n",
       "4   05-12-2022 13:49:01       TSLA  184.72   -5.20     583.334   \n",
       "5   05-12-2022 13:49:03       MSFT  251.34   -1.44    1874.000   \n",
       "6   05-12-2022 13:49:05        JNJ  179.09    0.12     468.221   \n",
       "7   05-12-2022 13:49:08        HON  216.74   -1.07     145.719   \n",
       "8   05-12-2022 13:49:11        ETN  160.99   -1.42      64.024   \n",
       "9   05-12-2022 13:49:14        XOM  108.44   -1.29     446.587   \n",
       "10  05-12-2022 13:49:17        COP  121.45   -0.60     151.335   \n",
       "\n",
       "                    sector                                    industry  \n",
       "0   Information Technology  Technology Hardware, Storage & Peripherals  \n",
       "1   Communication Services                Interactive Media & Services  \n",
       "2              Health Care                             Pharmaceuticals  \n",
       "3   Consumer Discretionary          Internet & Direct Marketing Retail  \n",
       "4   Consumer Discretionary                    Automobile Manufacturers  \n",
       "5   Information Technology                            Systems Software  \n",
       "6              Health Care                             Pharmaceuticals  \n",
       "7              Industrials                    Industrial Conglomerates  \n",
       "8              Industrials           Electrical Components & Equipment  \n",
       "9                   Energy                        Integrated Oil & Gas  \n",
       "10                  Energy          Oil & Gas Exploration & Production  "
      ]
     },
     "execution_count": 25,
     "metadata": {},
     "output_type": "execute_result"
    }
   ],
   "source": [
    "df['change']=(df['change'].str.rstrip('%').astype(float))\n",
    "df['price']=df['price'].astype(float)\n",
    "\n",
    "# convierte market_cap de str a int en billions\n",
    "multipliers = {'K':1000, 'M':1000000, 'B':1000000000, 'T':1000000000000}\n",
    "def string_to_billions(string):\n",
    "    if string[-1].isdigit():\n",
    "        return float(string)/1000000000\n",
    "    mult =multipliers[string[-1]]\n",
    "    return float(string[:-1])*mult/1000000000\n",
    "\n",
    "df['market_cap'] = df['market_cap'].apply(string_to_billions)\n",
    "df"
   ]
  },
  {
   "cell_type": "code",
   "execution_count": 27,
   "metadata": {},
   "outputs": [
    {
     "data": {
      "application/vnd.plotly.v1+json": {
       "config": {
        "plotlyServerURL": "https://plot.ly"
       },
       "data": [
        {
         "branchvalues": "total",
         "customdata": [
          -0.73,
          0.12,
          -2.19,
          -0.6,
          -1.42,
          -0.24,
          -1.07,
          0.12,
          -1.44,
          -5.2,
          -1.29,
          -5.2,
          -1.42,
          -1.07,
          -1.29,
          -0.24,
          -2.19,
          -0.6,
          0.12,
          -1.44,
          -0.73,
          -0.24,
          -3.343178493437234,
          -1.1153599131659313,
          0.12,
          -1.176837415313026,
          -1.0461178427179851
         ],
         "domain": {
          "x": [
           0,
           1
          ],
          "y": [
           0,
           1
          ]
         },
         "hovertemplate": "%{label}<br>Change=%{customdata:.2f}%",
         "ids": [
          "Information Technology/Technology Hardware, Storage & Peripherals/AAPL",
          "Health Care/Pharmaceuticals/ABBV",
          "Consumer Discretionary/Internet & Direct Marketing Retail/AMZN",
          "Energy/Oil & Gas Exploration & Production/COP",
          "Industrials/Electrical Components & Equipment/ETN",
          "Communication Services/Interactive Media & Services/GOOGL",
          "Industrials/Industrial Conglomerates/HON",
          "Health Care/Pharmaceuticals/JNJ",
          "Information Technology/Systems Software/MSFT",
          "Consumer Discretionary/Automobile Manufacturers/TSLA",
          "Energy/Integrated Oil & Gas/XOM",
          "Consumer Discretionary/Automobile Manufacturers",
          "Industrials/Electrical Components & Equipment",
          "Industrials/Industrial Conglomerates",
          "Energy/Integrated Oil & Gas",
          "Communication Services/Interactive Media & Services",
          "Consumer Discretionary/Internet & Direct Marketing Retail",
          "Energy/Oil & Gas Exploration & Production",
          "Health Care/Pharmaceuticals",
          "Information Technology/Systems Software",
          "Information Technology/Technology Hardware, Storage & Peripherals",
          "Communication Services",
          "Consumer Discretionary",
          "Energy",
          "Health Care",
          "Industrials",
          "Information Technology"
         ],
         "labels": [
          "AAPL",
          "ABBV",
          "AMZN",
          "COP",
          "ETN",
          "GOOGL",
          "HON",
          "JNJ",
          "MSFT",
          "TSLA",
          "XOM",
          "Automobile Manufacturers",
          "Electrical Components & Equipment",
          "Industrial Conglomerates",
          "Integrated Oil & Gas",
          "Interactive Media & Services",
          "Internet & Direct Marketing Retail",
          "Oil & Gas Exploration & Production",
          "Pharmaceuticals",
          "Systems Software",
          "Technology Hardware, Storage & Peripherals",
          "Communication Services",
          "Consumer Discretionary",
          "Energy",
          "Health Care",
          "Industrials",
          "Information Technology"
         ],
         "marker": {
          "coloraxis": "coloraxis",
          "colors": [
           -0.73,
           0.12,
           -2.19,
           -0.6,
           -1.42,
           -0.24,
           -1.07,
           0.12,
           -1.44,
           -5.2,
           -1.29,
           -5.2,
           -1.42,
           -1.07,
           -1.29,
           -0.24,
           -2.19,
           -0.6,
           0.12,
           -1.44,
           -0.73,
           -0.24,
           -3.343178493437234,
           -1.1153599131659313,
           0.12,
           -1.176837415313026,
           -1.0461178427179851
          ],
          "line": {
           "color": "#262931",
           "width": 1
          }
         },
         "name": "",
         "parents": [
          "Information Technology/Technology Hardware, Storage & Peripherals",
          "Health Care/Pharmaceuticals",
          "Consumer Discretionary/Internet & Direct Marketing Retail",
          "Energy/Oil & Gas Exploration & Production",
          "Industrials/Electrical Components & Equipment",
          "Communication Services/Interactive Media & Services",
          "Industrials/Industrial Conglomerates",
          "Health Care/Pharmaceuticals",
          "Information Technology/Systems Software",
          "Consumer Discretionary/Automobile Manufacturers",
          "Energy/Integrated Oil & Gas",
          "Consumer Discretionary",
          "Industrials",
          "Industrials",
          "Energy",
          "Communication Services",
          "Consumer Discretionary",
          "Energy",
          "Health Care",
          "Information Technology",
          "Information Technology",
          "",
          "",
          "",
          "",
          "",
          ""
         ],
         "texttemplate": "<b>%{label}</b><br>Market Cap: %{value:.0f} B<br>Change: %{customdata:.2f}%<br>",
         "type": "treemap",
         "values": [
          2335,
          289.783,
          939.271,
          151.335,
          64.024,
          1299,
          145.719,
          468.221,
          1874,
          583.334,
          446.587,
          583.334,
          64.024,
          145.719,
          446.587,
          1299,
          939.271,
          151.335,
          758.004,
          1874,
          2335,
          1299,
          1522.605,
          597.922,
          758.004,
          209.743,
          4209
         ]
        }
       ],
       "layout": {
        "autosize": true,
        "coloraxis": {
         "cmax": 3,
         "cmid": 0,
         "cmin": -3,
         "colorbar": {
          "title": {
           "text": "change"
          }
         },
         "colorscale": [
          [
           0,
           "#f63538"
          ],
          [
           0.5,
           "#414554"
          ],
          [
           1,
           "#30cc5a"
          ]
         ]
        },
        "legend": {
         "tracegroupgap": 0
        },
        "margin": {
         "b": 25,
         "l": 25,
         "r": 25,
         "t": 50
        },
        "paper_bgcolor": "rgba(0,0,0,0)",
        "plot_bgcolor": "rgba(0,0,0,0)",
        "template": {
         "data": {
          "bar": [
           {
            "error_x": {
             "color": "#2a3f5f"
            },
            "error_y": {
             "color": "#2a3f5f"
            },
            "marker": {
             "line": {
              "color": "#E5ECF6",
              "width": 0.5
             },
             "pattern": {
              "fillmode": "overlay",
              "size": 10,
              "solidity": 0.2
             }
            },
            "type": "bar"
           }
          ],
          "barpolar": [
           {
            "marker": {
             "line": {
              "color": "#E5ECF6",
              "width": 0.5
             },
             "pattern": {
              "fillmode": "overlay",
              "size": 10,
              "solidity": 0.2
             }
            },
            "type": "barpolar"
           }
          ],
          "carpet": [
           {
            "aaxis": {
             "endlinecolor": "#2a3f5f",
             "gridcolor": "white",
             "linecolor": "white",
             "minorgridcolor": "white",
             "startlinecolor": "#2a3f5f"
            },
            "baxis": {
             "endlinecolor": "#2a3f5f",
             "gridcolor": "white",
             "linecolor": "white",
             "minorgridcolor": "white",
             "startlinecolor": "#2a3f5f"
            },
            "type": "carpet"
           }
          ],
          "choropleth": [
           {
            "colorbar": {
             "outlinewidth": 0,
             "ticks": ""
            },
            "type": "choropleth"
           }
          ],
          "contour": [
           {
            "colorbar": {
             "outlinewidth": 0,
             "ticks": ""
            },
            "colorscale": [
             [
              0,
              "#0d0887"
             ],
             [
              0.1111111111111111,
              "#46039f"
             ],
             [
              0.2222222222222222,
              "#7201a8"
             ],
             [
              0.3333333333333333,
              "#9c179e"
             ],
             [
              0.4444444444444444,
              "#bd3786"
             ],
             [
              0.5555555555555556,
              "#d8576b"
             ],
             [
              0.6666666666666666,
              "#ed7953"
             ],
             [
              0.7777777777777778,
              "#fb9f3a"
             ],
             [
              0.8888888888888888,
              "#fdca26"
             ],
             [
              1,
              "#f0f921"
             ]
            ],
            "type": "contour"
           }
          ],
          "contourcarpet": [
           {
            "colorbar": {
             "outlinewidth": 0,
             "ticks": ""
            },
            "type": "contourcarpet"
           }
          ],
          "heatmap": [
           {
            "colorbar": {
             "outlinewidth": 0,
             "ticks": ""
            },
            "colorscale": [
             [
              0,
              "#0d0887"
             ],
             [
              0.1111111111111111,
              "#46039f"
             ],
             [
              0.2222222222222222,
              "#7201a8"
             ],
             [
              0.3333333333333333,
              "#9c179e"
             ],
             [
              0.4444444444444444,
              "#bd3786"
             ],
             [
              0.5555555555555556,
              "#d8576b"
             ],
             [
              0.6666666666666666,
              "#ed7953"
             ],
             [
              0.7777777777777778,
              "#fb9f3a"
             ],
             [
              0.8888888888888888,
              "#fdca26"
             ],
             [
              1,
              "#f0f921"
             ]
            ],
            "type": "heatmap"
           }
          ],
          "heatmapgl": [
           {
            "colorbar": {
             "outlinewidth": 0,
             "ticks": ""
            },
            "colorscale": [
             [
              0,
              "#0d0887"
             ],
             [
              0.1111111111111111,
              "#46039f"
             ],
             [
              0.2222222222222222,
              "#7201a8"
             ],
             [
              0.3333333333333333,
              "#9c179e"
             ],
             [
              0.4444444444444444,
              "#bd3786"
             ],
             [
              0.5555555555555556,
              "#d8576b"
             ],
             [
              0.6666666666666666,
              "#ed7953"
             ],
             [
              0.7777777777777778,
              "#fb9f3a"
             ],
             [
              0.8888888888888888,
              "#fdca26"
             ],
             [
              1,
              "#f0f921"
             ]
            ],
            "type": "heatmapgl"
           }
          ],
          "histogram": [
           {
            "marker": {
             "pattern": {
              "fillmode": "overlay",
              "size": 10,
              "solidity": 0.2
             }
            },
            "type": "histogram"
           }
          ],
          "histogram2d": [
           {
            "colorbar": {
             "outlinewidth": 0,
             "ticks": ""
            },
            "colorscale": [
             [
              0,
              "#0d0887"
             ],
             [
              0.1111111111111111,
              "#46039f"
             ],
             [
              0.2222222222222222,
              "#7201a8"
             ],
             [
              0.3333333333333333,
              "#9c179e"
             ],
             [
              0.4444444444444444,
              "#bd3786"
             ],
             [
              0.5555555555555556,
              "#d8576b"
             ],
             [
              0.6666666666666666,
              "#ed7953"
             ],
             [
              0.7777777777777778,
              "#fb9f3a"
             ],
             [
              0.8888888888888888,
              "#fdca26"
             ],
             [
              1,
              "#f0f921"
             ]
            ],
            "type": "histogram2d"
           }
          ],
          "histogram2dcontour": [
           {
            "colorbar": {
             "outlinewidth": 0,
             "ticks": ""
            },
            "colorscale": [
             [
              0,
              "#0d0887"
             ],
             [
              0.1111111111111111,
              "#46039f"
             ],
             [
              0.2222222222222222,
              "#7201a8"
             ],
             [
              0.3333333333333333,
              "#9c179e"
             ],
             [
              0.4444444444444444,
              "#bd3786"
             ],
             [
              0.5555555555555556,
              "#d8576b"
             ],
             [
              0.6666666666666666,
              "#ed7953"
             ],
             [
              0.7777777777777778,
              "#fb9f3a"
             ],
             [
              0.8888888888888888,
              "#fdca26"
             ],
             [
              1,
              "#f0f921"
             ]
            ],
            "type": "histogram2dcontour"
           }
          ],
          "mesh3d": [
           {
            "colorbar": {
             "outlinewidth": 0,
             "ticks": ""
            },
            "type": "mesh3d"
           }
          ],
          "parcoords": [
           {
            "line": {
             "colorbar": {
              "outlinewidth": 0,
              "ticks": ""
             }
            },
            "type": "parcoords"
           }
          ],
          "pie": [
           {
            "automargin": true,
            "type": "pie"
           }
          ],
          "scatter": [
           {
            "fillpattern": {
             "fillmode": "overlay",
             "size": 10,
             "solidity": 0.2
            },
            "type": "scatter"
           }
          ],
          "scatter3d": [
           {
            "line": {
             "colorbar": {
              "outlinewidth": 0,
              "ticks": ""
             }
            },
            "marker": {
             "colorbar": {
              "outlinewidth": 0,
              "ticks": ""
             }
            },
            "type": "scatter3d"
           }
          ],
          "scattercarpet": [
           {
            "marker": {
             "colorbar": {
              "outlinewidth": 0,
              "ticks": ""
             }
            },
            "type": "scattercarpet"
           }
          ],
          "scattergeo": [
           {
            "marker": {
             "colorbar": {
              "outlinewidth": 0,
              "ticks": ""
             }
            },
            "type": "scattergeo"
           }
          ],
          "scattergl": [
           {
            "marker": {
             "colorbar": {
              "outlinewidth": 0,
              "ticks": ""
             }
            },
            "type": "scattergl"
           }
          ],
          "scattermapbox": [
           {
            "marker": {
             "colorbar": {
              "outlinewidth": 0,
              "ticks": ""
             }
            },
            "type": "scattermapbox"
           }
          ],
          "scatterpolar": [
           {
            "marker": {
             "colorbar": {
              "outlinewidth": 0,
              "ticks": ""
             }
            },
            "type": "scatterpolar"
           }
          ],
          "scatterpolargl": [
           {
            "marker": {
             "colorbar": {
              "outlinewidth": 0,
              "ticks": ""
             }
            },
            "type": "scatterpolargl"
           }
          ],
          "scatterternary": [
           {
            "marker": {
             "colorbar": {
              "outlinewidth": 0,
              "ticks": ""
             }
            },
            "type": "scatterternary"
           }
          ],
          "surface": [
           {
            "colorbar": {
             "outlinewidth": 0,
             "ticks": ""
            },
            "colorscale": [
             [
              0,
              "#0d0887"
             ],
             [
              0.1111111111111111,
              "#46039f"
             ],
             [
              0.2222222222222222,
              "#7201a8"
             ],
             [
              0.3333333333333333,
              "#9c179e"
             ],
             [
              0.4444444444444444,
              "#bd3786"
             ],
             [
              0.5555555555555556,
              "#d8576b"
             ],
             [
              0.6666666666666666,
              "#ed7953"
             ],
             [
              0.7777777777777778,
              "#fb9f3a"
             ],
             [
              0.8888888888888888,
              "#fdca26"
             ],
             [
              1,
              "#f0f921"
             ]
            ],
            "type": "surface"
           }
          ],
          "table": [
           {
            "cells": {
             "fill": {
              "color": "#EBF0F8"
             },
             "line": {
              "color": "white"
             }
            },
            "header": {
             "fill": {
              "color": "#C8D4E3"
             },
             "line": {
              "color": "white"
             }
            },
            "type": "table"
           }
          ]
         },
         "layout": {
          "annotationdefaults": {
           "arrowcolor": "#2a3f5f",
           "arrowhead": 0,
           "arrowwidth": 1
          },
          "autotypenumbers": "strict",
          "coloraxis": {
           "colorbar": {
            "outlinewidth": 0,
            "ticks": ""
           }
          },
          "colorscale": {
           "diverging": [
            [
             0,
             "#8e0152"
            ],
            [
             0.1,
             "#c51b7d"
            ],
            [
             0.2,
             "#de77ae"
            ],
            [
             0.3,
             "#f1b6da"
            ],
            [
             0.4,
             "#fde0ef"
            ],
            [
             0.5,
             "#f7f7f7"
            ],
            [
             0.6,
             "#e6f5d0"
            ],
            [
             0.7,
             "#b8e186"
            ],
            [
             0.8,
             "#7fbc41"
            ],
            [
             0.9,
             "#4d9221"
            ],
            [
             1,
             "#276419"
            ]
           ],
           "sequential": [
            [
             0,
             "#0d0887"
            ],
            [
             0.1111111111111111,
             "#46039f"
            ],
            [
             0.2222222222222222,
             "#7201a8"
            ],
            [
             0.3333333333333333,
             "#9c179e"
            ],
            [
             0.4444444444444444,
             "#bd3786"
            ],
            [
             0.5555555555555556,
             "#d8576b"
            ],
            [
             0.6666666666666666,
             "#ed7953"
            ],
            [
             0.7777777777777778,
             "#fb9f3a"
            ],
            [
             0.8888888888888888,
             "#fdca26"
            ],
            [
             1,
             "#f0f921"
            ]
           ],
           "sequentialminus": [
            [
             0,
             "#0d0887"
            ],
            [
             0.1111111111111111,
             "#46039f"
            ],
            [
             0.2222222222222222,
             "#7201a8"
            ],
            [
             0.3333333333333333,
             "#9c179e"
            ],
            [
             0.4444444444444444,
             "#bd3786"
            ],
            [
             0.5555555555555556,
             "#d8576b"
            ],
            [
             0.6666666666666666,
             "#ed7953"
            ],
            [
             0.7777777777777778,
             "#fb9f3a"
            ],
            [
             0.8888888888888888,
             "#fdca26"
            ],
            [
             1,
             "#f0f921"
            ]
           ]
          },
          "colorway": [
           "#636efa",
           "#EF553B",
           "#00cc96",
           "#ab63fa",
           "#FFA15A",
           "#19d3f3",
           "#FF6692",
           "#B6E880",
           "#FF97FF",
           "#FECB52"
          ],
          "font": {
           "color": "#2a3f5f"
          },
          "geo": {
           "bgcolor": "white",
           "lakecolor": "white",
           "landcolor": "#E5ECF6",
           "showlakes": true,
           "showland": true,
           "subunitcolor": "white"
          },
          "hoverlabel": {
           "align": "left"
          },
          "hovermode": "closest",
          "mapbox": {
           "style": "light"
          },
          "paper_bgcolor": "white",
          "plot_bgcolor": "#E5ECF6",
          "polar": {
           "angularaxis": {
            "gridcolor": "white",
            "linecolor": "white",
            "ticks": ""
           },
           "bgcolor": "#E5ECF6",
           "radialaxis": {
            "gridcolor": "white",
            "linecolor": "white",
            "ticks": ""
           }
          },
          "scene": {
           "xaxis": {
            "backgroundcolor": "#E5ECF6",
            "gridcolor": "white",
            "gridwidth": 2,
            "linecolor": "white",
            "showbackground": true,
            "ticks": "",
            "zerolinecolor": "white"
           },
           "yaxis": {
            "backgroundcolor": "#E5ECF6",
            "gridcolor": "white",
            "gridwidth": 2,
            "linecolor": "white",
            "showbackground": true,
            "ticks": "",
            "zerolinecolor": "white"
           },
           "zaxis": {
            "backgroundcolor": "#E5ECF6",
            "gridcolor": "white",
            "gridwidth": 2,
            "linecolor": "white",
            "showbackground": true,
            "ticks": "",
            "zerolinecolor": "white"
           }
          },
          "shapedefaults": {
           "line": {
            "color": "#2a3f5f"
           }
          },
          "ternary": {
           "aaxis": {
            "gridcolor": "white",
            "linecolor": "white",
            "ticks": ""
           },
           "baxis": {
            "gridcolor": "white",
            "linecolor": "white",
            "ticks": ""
           },
           "bgcolor": "#E5ECF6",
           "caxis": {
            "gridcolor": "white",
            "linecolor": "white",
            "ticks": ""
           }
          },
          "title": {
           "x": 0.05
          },
          "xaxis": {
           "automargin": true,
           "gridcolor": "white",
           "linecolor": "white",
           "ticks": "",
           "title": {
            "standoff": 15
           },
           "zerolinecolor": "white",
           "zerolinewidth": 2
          },
          "yaxis": {
           "automargin": true,
           "gridcolor": "white",
           "linecolor": "white",
           "ticks": "",
           "title": {
            "standoff": 15
           },
           "zerolinecolor": "white",
           "zerolinewidth": 2
          }
         }
        }
       }
      }
     },
     "metadata": {},
     "output_type": "display_data"
    }
   ],
   "source": [
    "fig = px.treemap(df, path=['sector', 'industry', 'stock_code'], values='market_cap',\n",
    "                  color='change', hover_data=['change'], \n",
    "                  color_continuous_scale=[(0, \"#f63538\"), (0.5, \"#414554\"), (1, \"#30cc5a\")],\n",
    "                  color_continuous_midpoint=0, range_color=[-3,3])\n",
    "\n",
    "fig.data[0].customdata = fig.data[0].marker.colors\n",
    "fig.data[0].texttemplate = \"<b>%{label}</b><br>Market Cap: %{value:.0f} B<br>Change: %{customdata:.2f}%<br>\"\n",
    "fig.update_traces(hovertemplate='%{label}<br>Change=%{customdata:.2f}%')\n",
    "fig.update_traces(marker=dict(line=dict(width=1, color='#262931')))\n",
    "fig.update_layout({\n",
    "    'plot_bgcolor': 'rgba(0,0,0,0)',\n",
    "    'paper_bgcolor': 'rgba(0,0,0,0)'\n",
    "})\n",
    "fig.update_layout(margin = dict(t=50, l=25, r=25, b=25), autosize=True)\n",
    "fig.show()"
   ]
  },
  {
   "cell_type": "code",
   "execution_count": null,
   "metadata": {},
   "outputs": [],
   "source": []
  }
 ],
 "metadata": {
  "kernelspec": {
   "display_name": "Python 3.9.12 ('base')",
   "language": "python",
   "name": "python3"
  },
  "language_info": {
   "codemirror_mode": {
    "name": "ipython",
    "version": 3
   },
   "file_extension": ".py",
   "mimetype": "text/x-python",
   "name": "python",
   "nbconvert_exporter": "python",
   "pygments_lexer": "ipython3",
   "version": "3.9.15"
  },
  "orig_nbformat": 4,
  "vscode": {
   "interpreter": {
    "hash": "ffc3148520511411f1d34b36c9ccc7e8dac3d66633b7259514787140c98550e6"
   }
  }
 },
 "nbformat": 4,
 "nbformat_minor": 2
}
