{
 "cells": [
  {
   "cell_type": "code",
   "execution_count": 2,
   "metadata": {},
   "outputs": [],
   "source": [
    "import pandas as pd\n",
    "import numpy as np\n",
    "import datetime\n",
    "import requests\n",
    "import plotly.express as px\n",
    "import plotly.graph_objects as go\n",
    "from plotly.subplots import make_subplots\n",
    "from requests.exceptions import ConnectionError\n",
    "from bs4 import BeautifulSoup"
   ]
  },
  {
   "cell_type": "code",
   "execution_count": 28,
   "metadata": {},
   "outputs": [],
   "source": [
    "# Obtiene todos los textos dentro de spans para un web_content especificado\n",
    "\n",
    "def web_content_div(web_content,class_path):\n",
    "    web_content_div = web_content.find_all('div',{'class': class_path})\n",
    "    try:\n",
    "        spans = web_content_div[0].find_all('fin-streamer')\n",
    "        texts = [span.get_text() for span in spans]\n",
    "    except IndexError:\n",
    "        texts = []\n",
    "    \n",
    "    return texts"
   ]
  },
  {
   "cell_type": "code",
   "execution_count": 30,
   "metadata": {},
   "outputs": [],
   "source": [
    "# Extrae la información de precio, % cambio y market cap para un código de stock\n",
    "def real_time_price(stock_code):\n",
    "   \n",
    "    url='https://finance.yahoo.com/quote/'+ stock_code + '?p=' + stock_code + '&.tsrc=fin-srch'\n",
    "    \n",
    "    try:\n",
    "        r = requests.get(url)\n",
    "        web_content = BeautifulSoup(r.text, 'lxml')\n",
    "        \n",
    "        texts = web_content_div(web_content, \"My(6px) Pos(r) smartphone_Mt(6px) W(100%)\")\n",
    "       \n",
    "        if texts != []:\n",
    "            price, change = texts[0], texts[2]\n",
    "        else:\n",
    "            price, change = [1], [1]\n",
    "            print('Nothing found')\n",
    "        data=pd.read_html(url)     \n",
    "        market_cap=df=data[1].loc[0,1]\n",
    "        \n",
    "    except ConnectionError:\n",
    "        price, change, market_cap = [], [], []\n",
    "        print('Connection Error')\n",
    "    return price, change, market_cap\n",
    "\n"
   ]
  },
  {
   "cell_type": "code",
   "execution_count": 31,
   "metadata": {},
   "outputs": [],
   "source": [
    "# Extrae tabla de compañías del SP500 de wikipedia\n",
    "sp500url='https://en.wikipedia.org/wiki/List_of_S%26P_500_companies'\n",
    "code_table=pd.read_html(sp500url)\n",
    "symbols = code_table[0]\n",
    "symbols.rename(columns={'Symbol': 'stock_code', 'GICS Sector':'sector', 'GICS Sub-Industry':'industry'}, inplace=True)"
   ]
  },
  {
   "cell_type": "code",
   "execution_count": 32,
   "metadata": {},
   "outputs": [],
   "source": [
    "tickers=symbols['stock_code'].tolist()"
   ]
  },
  {
   "cell_type": "code",
   "execution_count": 20,
   "metadata": {},
   "outputs": [],
   "source": [
    "# reemplaza tickers con '.'\n",
    "\n",
    "for i in range(len(tickers)):\n",
    "    if tickers[i]=='BRK.B':\n",
    "        tickers[i]='BRK-B'\n",
    "    elif tickers[i]=='BF.B':\n",
    "        tickers[i]='BF-B'"
   ]
  },
  {
   "cell_type": "code",
   "execution_count": 23,
   "metadata": {},
   "outputs": [],
   "source": [
    "# Aplica el webscrapping para una lista de tickers\n",
    "\n",
    "tickers = ['AAPL', 'GOOGL','ABBV', 'AMZN', 'TSLA', 'MSFT', 'JNJ', 'HON', 'ETN', 'XOM', 'COP']\n",
    "info = []\n",
    "\n",
    "for stock_code in tickers:\n",
    "    time_stamp = datetime.datetime.now()\n",
    "    time_stamp = time_stamp.strftime('%d-%m-%Y %H:%M:%S')\n",
    "    price, change, market_cap = real_time_price(stock_code)\n",
    "    \n",
    "    info.append(\n",
    "        {\n",
    "            'time_stamp': time_stamp,\n",
    "            'stock_code': stock_code,\n",
    "            'price': price,\n",
    "            'change': change,\n",
    "            'market_cap': market_cap\n",
    "        }  \n",
    "    )\n",
    "prices_df=pd.DataFrame(info)"
   ]
  },
  {
   "cell_type": "code",
   "execution_count": 33,
   "metadata": {},
   "outputs": [
    {
     "name": "stderr",
     "output_type": "stream",
     "text": [
      "C:\\Users\\filip\\AppData\\Local\\Temp\\ipykernel_18816\\911075935.py:3: FutureWarning:\n",
      "\n",
      "The default value of regex will change from True to False in a future version.\n",
      "\n"
     ]
    }
   ],
   "source": [
    "# Join con la tabla de symbols\n",
    "df=pd.merge(prices_df, symbols[['stock_code','sector', 'industry']], on='stock_code', how='left')\n",
    "df['change']=df['change'].str.replace('[()]','')\n",
    "\n"
   ]
  },
  {
   "cell_type": "code",
   "execution_count": 34,
   "metadata": {},
   "outputs": [],
   "source": [
    "df['change']=(df['change'].str.rstrip('%').astype(float))\n",
    "df['price']=df['price'].astype(float)\n",
    "\n",
    "# convierte market_cap de str a int en billions\n",
    "multipliers = {'K':1000, 'M':1000000, 'B':1000000000, 'T':1000000000000}\n",
    "def string_to_billions(string):\n",
    "    if string[-1].isdigit():\n",
    "        return float(string)/1000000000\n",
    "    mult =multipliers[string[-1]]\n",
    "    return float(string[:-1])*mult/1000000000\n",
    "\n",
    "df['market_cap'] = df['market_cap'].apply(string_to_billions)"
   ]
  },
  {
   "cell_type": "code",
   "execution_count": 36,
   "metadata": {},
   "outputs": [
    {
     "name": "stdout",
     "output_type": "stream",
     "text": [
      "Treemap\n"
     ]
    },
    {
     "data": {
      "application/vnd.plotly.v1+json": {
       "config": {
        "plotlyServerURL": "https://plot.ly"
       },
       "data": [
        {
         "branchvalues": "total",
         "customdata": [
          -0.73,
          0.12,
          -2.19,
          -0.6,
          -1.42,
          -0.24,
          -1.07,
          0.12,
          -1.44,
          -5.2,
          -1.29,
          -5.2,
          -1.42,
          -1.07,
          -1.29,
          -0.24,
          -2.19,
          -0.6,
          0.12,
          -1.44,
          -0.73,
          -0.24,
          -3.343178493437234,
          -1.1153599131659313,
          0.12,
          -1.176837415313026,
          -1.0461178427179851
         ],
         "domain": {
          "x": [
           0,
           1
          ],
          "y": [
           0,
           1
          ]
         },
         "hovertemplate": "%{label}<br>Change=%{customdata:.2f}%",
         "ids": [
          "Information Technology/Technology Hardware, Storage & Peripherals/AAPL",
          "Health Care/Pharmaceuticals/ABBV",
          "Consumer Discretionary/Internet & Direct Marketing Retail/AMZN",
          "Energy/Oil & Gas Exploration & Production/COP",
          "Industrials/Electrical Components & Equipment/ETN",
          "Communication Services/Interactive Media & Services/GOOGL",
          "Industrials/Industrial Conglomerates/HON",
          "Health Care/Pharmaceuticals/JNJ",
          "Information Technology/Systems Software/MSFT",
          "Consumer Discretionary/Automobile Manufacturers/TSLA",
          "Energy/Integrated Oil & Gas/XOM",
          "Consumer Discretionary/Automobile Manufacturers",
          "Industrials/Electrical Components & Equipment",
          "Industrials/Industrial Conglomerates",
          "Energy/Integrated Oil & Gas",
          "Communication Services/Interactive Media & Services",
          "Consumer Discretionary/Internet & Direct Marketing Retail",
          "Energy/Oil & Gas Exploration & Production",
          "Health Care/Pharmaceuticals",
          "Information Technology/Systems Software",
          "Information Technology/Technology Hardware, Storage & Peripherals",
          "Communication Services",
          "Consumer Discretionary",
          "Energy",
          "Health Care",
          "Industrials",
          "Information Technology"
         ],
         "labels": [
          "AAPL",
          "ABBV",
          "AMZN",
          "COP",
          "ETN",
          "GOOGL",
          "HON",
          "JNJ",
          "MSFT",
          "TSLA",
          "XOM",
          "Automobile Manufacturers",
          "Electrical Components & Equipment",
          "Industrial Conglomerates",
          "Integrated Oil & Gas",
          "Interactive Media & Services",
          "Internet & Direct Marketing Retail",
          "Oil & Gas Exploration & Production",
          "Pharmaceuticals",
          "Systems Software",
          "Technology Hardware, Storage & Peripherals",
          "Communication Services",
          "Consumer Discretionary",
          "Energy",
          "Health Care",
          "Industrials",
          "Information Technology"
         ],
         "marker": {
          "coloraxis": "coloraxis",
          "colors": [
           -0.73,
           0.12,
           -2.19,
           -0.6,
           -1.42,
           -0.24,
           -1.07,
           0.12,
           -1.44,
           -5.2,
           -1.29,
           -5.2,
           -1.42,
           -1.07,
           -1.29,
           -0.24,
           -2.19,
           -0.6,
           0.12,
           -1.44,
           -0.73,
           -0.24,
           -3.343178493437234,
           -1.1153599131659313,
           0.12,
           -1.176837415313026,
           -1.0461178427179851
          ],
          "line": {
           "color": "#262931",
           "width": 1
          }
         },
         "name": "",
         "parents": [
          "Information Technology/Technology Hardware, Storage & Peripherals",
          "Health Care/Pharmaceuticals",
          "Consumer Discretionary/Internet & Direct Marketing Retail",
          "Energy/Oil & Gas Exploration & Production",
          "Industrials/Electrical Components & Equipment",
          "Communication Services/Interactive Media & Services",
          "Industrials/Industrial Conglomerates",
          "Health Care/Pharmaceuticals",
          "Information Technology/Systems Software",
          "Consumer Discretionary/Automobile Manufacturers",
          "Energy/Integrated Oil & Gas",
          "Consumer Discretionary",
          "Industrials",
          "Industrials",
          "Energy",
          "Communication Services",
          "Consumer Discretionary",
          "Energy",
          "Health Care",
          "Information Technology",
          "Information Technology",
          "",
          "",
          "",
          "",
          "",
          ""
         ],
         "texttemplate": "<b>%{label}</b><br>Market Cap: %{value:.0f} B<br>Change: %{customdata:.2f}%<br>",
         "type": "treemap",
         "values": [
          2335,
          289.783,
          939.271,
          151.335,
          64.024,
          1299,
          145.719,
          468.221,
          1874,
          583.334,
          446.587,
          583.334,
          64.024,
          145.719,
          446.587,
          1299,
          939.271,
          151.335,
          758.004,
          1874,
          2335,
          1299,
          1522.605,
          597.922,
          758.004,
          209.743,
          4209
         ]
        }
       ],
       "layout": {
        "autosize": true,
        "coloraxis": {
         "cmax": 3,
         "cmid": 0,
         "cmin": -3,
         "colorbar": {
          "title": {
           "text": "change"
          }
         },
         "colorscale": [
          [
           0,
           "#f63538"
          ],
          [
           0.5,
           "#414554"
          ],
          [
           1,
           "#30cc5a"
          ]
         ]
        },
        "legend": {
         "tracegroupgap": 0
        },
        "margin": {
         "b": 25,
         "l": 25,
         "r": 25,
         "t": 50
        },
        "paper_bgcolor": "rgba(0,0,0,0)",
        "plot_bgcolor": "rgba(0,0,0,0)",
        "template": {
         "data": {
          "bar": [
           {
            "error_x": {
             "color": "#2a3f5f"
            },
            "error_y": {
             "color": "#2a3f5f"
            },
            "marker": {
             "line": {
              "color": "#E5ECF6",
              "width": 0.5
             },
             "pattern": {
              "fillmode": "overlay",
              "size": 10,
              "solidity": 0.2
             }
            },
            "type": "bar"
           }
          ],
          "barpolar": [
           {
            "marker": {
             "line": {
              "color": "#E5ECF6",
              "width": 0.5
             },
             "pattern": {
              "fillmode": "overlay",
              "size": 10,
              "solidity": 0.2
             }
            },
            "type": "barpolar"
           }
          ],
          "carpet": [
           {
            "aaxis": {
             "endlinecolor": "#2a3f5f",
             "gridcolor": "white",
             "linecolor": "white",
             "minorgridcolor": "white",
             "startlinecolor": "#2a3f5f"
            },
            "baxis": {
             "endlinecolor": "#2a3f5f",
             "gridcolor": "white",
             "linecolor": "white",
             "minorgridcolor": "white",
             "startlinecolor": "#2a3f5f"
            },
            "type": "carpet"
           }
          ],
          "choropleth": [
           {
            "colorbar": {
             "outlinewidth": 0,
             "ticks": ""
            },
            "type": "choropleth"
           }
          ],
          "contour": [
           {
            "colorbar": {
             "outlinewidth": 0,
             "ticks": ""
            },
            "colorscale": [
             [
              0,
              "#0d0887"
             ],
             [
              0.1111111111111111,
              "#46039f"
             ],
             [
              0.2222222222222222,
              "#7201a8"
             ],
             [
              0.3333333333333333,
              "#9c179e"
             ],
             [
              0.4444444444444444,
              "#bd3786"
             ],
             [
              0.5555555555555556,
              "#d8576b"
             ],
             [
              0.6666666666666666,
              "#ed7953"
             ],
             [
              0.7777777777777778,
              "#fb9f3a"
             ],
             [
              0.8888888888888888,
              "#fdca26"
             ],
             [
              1,
              "#f0f921"
             ]
            ],
            "type": "contour"
           }
          ],
          "contourcarpet": [
           {
            "colorbar": {
             "outlinewidth": 0,
             "ticks": ""
            },
            "type": "contourcarpet"
           }
          ],
          "heatmap": [
           {
            "colorbar": {
             "outlinewidth": 0,
             "ticks": ""
            },
            "colorscale": [
             [
              0,
              "#0d0887"
             ],
             [
              0.1111111111111111,
              "#46039f"
             ],
             [
              0.2222222222222222,
              "#7201a8"
             ],
             [
              0.3333333333333333,
              "#9c179e"
             ],
             [
              0.4444444444444444,
              "#bd3786"
             ],
             [
              0.5555555555555556,
              "#d8576b"
             ],
             [
              0.6666666666666666,
              "#ed7953"
             ],
             [
              0.7777777777777778,
              "#fb9f3a"
             ],
             [
              0.8888888888888888,
              "#fdca26"
             ],
             [
              1,
              "#f0f921"
             ]
            ],
            "type": "heatmap"
           }
          ],
          "heatmapgl": [
           {
            "colorbar": {
             "outlinewidth": 0,
             "ticks": ""
            },
            "colorscale": [
             [
              0,
              "#0d0887"
             ],
             [
              0.1111111111111111,
              "#46039f"
             ],
             [
              0.2222222222222222,
              "#7201a8"
             ],
             [
              0.3333333333333333,
              "#9c179e"
             ],
             [
              0.4444444444444444,
              "#bd3786"
             ],
             [
              0.5555555555555556,
              "#d8576b"
             ],
             [
              0.6666666666666666,
              "#ed7953"
             ],
             [
              0.7777777777777778,
              "#fb9f3a"
             ],
             [
              0.8888888888888888,
              "#fdca26"
             ],
             [
              1,
              "#f0f921"
             ]
            ],
            "type": "heatmapgl"
           }
          ],
          "histogram": [
           {
            "marker": {
             "pattern": {
              "fillmode": "overlay",
              "size": 10,
              "solidity": 0.2
             }
            },
            "type": "histogram"
           }
          ],
          "histogram2d": [
           {
            "colorbar": {
             "outlinewidth": 0,
             "ticks": ""
            },
            "colorscale": [
             [
              0,
              "#0d0887"
             ],
             [
              0.1111111111111111,
              "#46039f"
             ],
             [
              0.2222222222222222,
              "#7201a8"
             ],
             [
              0.3333333333333333,
              "#9c179e"
             ],
             [
              0.4444444444444444,
              "#bd3786"
             ],
             [
              0.5555555555555556,
              "#d8576b"
             ],
             [
              0.6666666666666666,
              "#ed7953"
             ],
             [
              0.7777777777777778,
              "#fb9f3a"
             ],
             [
              0.8888888888888888,
              "#fdca26"
             ],
             [
              1,
              "#f0f921"
             ]
            ],
            "type": "histogram2d"
           }
          ],
          "histogram2dcontour": [
           {
            "colorbar": {
             "outlinewidth": 0,
             "ticks": ""
            },
            "colorscale": [
             [
              0,
              "#0d0887"
             ],
             [
              0.1111111111111111,
              "#46039f"
             ],
             [
              0.2222222222222222,
              "#7201a8"
             ],
             [
              0.3333333333333333,
              "#9c179e"
             ],
             [
              0.4444444444444444,
              "#bd3786"
             ],
             [
              0.5555555555555556,
              "#d8576b"
             ],
             [
              0.6666666666666666,
              "#ed7953"
             ],
             [
              0.7777777777777778,
              "#fb9f3a"
             ],
             [
              0.8888888888888888,
              "#fdca26"
             ],
             [
              1,
              "#f0f921"
             ]
            ],
            "type": "histogram2dcontour"
           }
          ],
          "mesh3d": [
           {
            "colorbar": {
             "outlinewidth": 0,
             "ticks": ""
            },
            "type": "mesh3d"
           }
          ],
          "parcoords": [
           {
            "line": {
             "colorbar": {
              "outlinewidth": 0,
              "ticks": ""
             }
            },
            "type": "parcoords"
           }
          ],
          "pie": [
           {
            "automargin": true,
            "type": "pie"
           }
          ],
          "scatter": [
           {
            "fillpattern": {
             "fillmode": "overlay",
             "size": 10,
             "solidity": 0.2
            },
            "type": "scatter"
           }
          ],
          "scatter3d": [
           {
            "line": {
             "colorbar": {
              "outlinewidth": 0,
              "ticks": ""
             }
            },
            "marker": {
             "colorbar": {
              "outlinewidth": 0,
              "ticks": ""
             }
            },
            "type": "scatter3d"
           }
          ],
          "scattercarpet": [
           {
            "marker": {
             "colorbar": {
              "outlinewidth": 0,
              "ticks": ""
             }
            },
            "type": "scattercarpet"
           }
          ],
          "scattergeo": [
           {
            "marker": {
             "colorbar": {
              "outlinewidth": 0,
              "ticks": ""
             }
            },
            "type": "scattergeo"
           }
          ],
          "scattergl": [
           {
            "marker": {
             "colorbar": {
              "outlinewidth": 0,
              "ticks": ""
             }
            },
            "type": "scattergl"
           }
          ],
          "scattermapbox": [
           {
            "marker": {
             "colorbar": {
              "outlinewidth": 0,
              "ticks": ""
             }
            },
            "type": "scattermapbox"
           }
          ],
          "scatterpolar": [
           {
            "marker": {
             "colorbar": {
              "outlinewidth": 0,
              "ticks": ""
             }
            },
            "type": "scatterpolar"
           }
          ],
          "scatterpolargl": [
           {
            "marker": {
             "colorbar": {
              "outlinewidth": 0,
              "ticks": ""
             }
            },
            "type": "scatterpolargl"
           }
          ],
          "scatterternary": [
           {
            "marker": {
             "colorbar": {
              "outlinewidth": 0,
              "ticks": ""
             }
            },
            "type": "scatterternary"
           }
          ],
          "surface": [
           {
            "colorbar": {
             "outlinewidth": 0,
             "ticks": ""
            },
            "colorscale": [
             [
              0,
              "#0d0887"
             ],
             [
              0.1111111111111111,
              "#46039f"
             ],
             [
              0.2222222222222222,
              "#7201a8"
             ],
             [
              0.3333333333333333,
              "#9c179e"
             ],
             [
              0.4444444444444444,
              "#bd3786"
             ],
             [
              0.5555555555555556,
              "#d8576b"
             ],
             [
              0.6666666666666666,
              "#ed7953"
             ],
             [
              0.7777777777777778,
              "#fb9f3a"
             ],
             [
              0.8888888888888888,
              "#fdca26"
             ],
             [
              1,
              "#f0f921"
             ]
            ],
            "type": "surface"
           }
          ],
          "table": [
           {
            "cells": {
             "fill": {
              "color": "#EBF0F8"
             },
             "line": {
              "color": "white"
             }
            },
            "header": {
             "fill": {
              "color": "#C8D4E3"
             },
             "line": {
              "color": "white"
             }
            },
            "type": "table"
           }
          ]
         },
         "layout": {
          "annotationdefaults": {
           "arrowcolor": "#2a3f5f",
           "arrowhead": 0,
           "arrowwidth": 1
          },
          "autotypenumbers": "strict",
          "coloraxis": {
           "colorbar": {
            "outlinewidth": 0,
            "ticks": ""
           }
          },
          "colorscale": {
           "diverging": [
            [
             0,
             "#8e0152"
            ],
            [
             0.1,
             "#c51b7d"
            ],
            [
             0.2,
             "#de77ae"
            ],
            [
             0.3,
             "#f1b6da"
            ],
            [
             0.4,
             "#fde0ef"
            ],
            [
             0.5,
             "#f7f7f7"
            ],
            [
             0.6,
             "#e6f5d0"
            ],
            [
             0.7,
             "#b8e186"
            ],
            [
             0.8,
             "#7fbc41"
            ],
            [
             0.9,
             "#4d9221"
            ],
            [
             1,
             "#276419"
            ]
           ],
           "sequential": [
            [
             0,
             "#0d0887"
            ],
            [
             0.1111111111111111,
             "#46039f"
            ],
            [
             0.2222222222222222,
             "#7201a8"
            ],
            [
             0.3333333333333333,
             "#9c179e"
            ],
            [
             0.4444444444444444,
             "#bd3786"
            ],
            [
             0.5555555555555556,
             "#d8576b"
            ],
            [
             0.6666666666666666,
             "#ed7953"
            ],
            [
             0.7777777777777778,
             "#fb9f3a"
            ],
            [
             0.8888888888888888,
             "#fdca26"
            ],
            [
             1,
             "#f0f921"
            ]
           ],
           "sequentialminus": [
            [
             0,
             "#0d0887"
            ],
            [
             0.1111111111111111,
             "#46039f"
            ],
            [
             0.2222222222222222,
             "#7201a8"
            ],
            [
             0.3333333333333333,
             "#9c179e"
            ],
            [
             0.4444444444444444,
             "#bd3786"
            ],
            [
             0.5555555555555556,
             "#d8576b"
            ],
            [
             0.6666666666666666,
             "#ed7953"
            ],
            [
             0.7777777777777778,
             "#fb9f3a"
            ],
            [
             0.8888888888888888,
             "#fdca26"
            ],
            [
             1,
             "#f0f921"
            ]
           ]
          },
          "colorway": [
           "#636efa",
           "#EF553B",
           "#00cc96",
           "#ab63fa",
           "#FFA15A",
           "#19d3f3",
           "#FF6692",
           "#B6E880",
           "#FF97FF",
           "#FECB52"
          ],
          "font": {
           "color": "#2a3f5f"
          },
          "geo": {
           "bgcolor": "white",
           "lakecolor": "white",
           "landcolor": "#E5ECF6",
           "showlakes": true,
           "showland": true,
           "subunitcolor": "white"
          },
          "hoverlabel": {
           "align": "left"
          },
          "hovermode": "closest",
          "mapbox": {
           "style": "light"
          },
          "paper_bgcolor": "white",
          "plot_bgcolor": "#E5ECF6",
          "polar": {
           "angularaxis": {
            "gridcolor": "white",
            "linecolor": "white",
            "ticks": ""
           },
           "bgcolor": "#E5ECF6",
           "radialaxis": {
            "gridcolor": "white",
            "linecolor": "white",
            "ticks": ""
           }
          },
          "scene": {
           "xaxis": {
            "backgroundcolor": "#E5ECF6",
            "gridcolor": "white",
            "gridwidth": 2,
            "linecolor": "white",
            "showbackground": true,
            "ticks": "",
            "zerolinecolor": "white"
           },
           "yaxis": {
            "backgroundcolor": "#E5ECF6",
            "gridcolor": "white",
            "gridwidth": 2,
            "linecolor": "white",
            "showbackground": true,
            "ticks": "",
            "zerolinecolor": "white"
           },
           "zaxis": {
            "backgroundcolor": "#E5ECF6",
            "gridcolor": "white",
            "gridwidth": 2,
            "linecolor": "white",
            "showbackground": true,
            "ticks": "",
            "zerolinecolor": "white"
           }
          },
          "shapedefaults": {
           "line": {
            "color": "#2a3f5f"
           }
          },
          "ternary": {
           "aaxis": {
            "gridcolor": "white",
            "linecolor": "white",
            "ticks": ""
           },
           "baxis": {
            "gridcolor": "white",
            "linecolor": "white",
            "ticks": ""
           },
           "bgcolor": "#E5ECF6",
           "caxis": {
            "gridcolor": "white",
            "linecolor": "white",
            "ticks": ""
           }
          },
          "title": {
           "x": 0.05
          },
          "xaxis": {
           "automargin": true,
           "gridcolor": "white",
           "linecolor": "white",
           "ticks": "",
           "title": {
            "standoff": 15
           },
           "zerolinecolor": "white",
           "zerolinewidth": 2
          },
          "yaxis": {
           "automargin": true,
           "gridcolor": "white",
           "linecolor": "white",
           "ticks": "",
           "title": {
            "standoff": 15
           },
           "zerolinecolor": "white",
           "zerolinewidth": 2
          }
         }
        }
       }
      }
     },
     "metadata": {},
     "output_type": "display_data"
    }
   ],
   "source": [
    "fig = px.treemap(df, path=['sector', 'industry', 'stock_code'], values='market_cap',\n",
    "                  color='change', hover_data=['change'], \n",
    "                  color_continuous_scale=[(0, \"#f63538\"), (0.5, \"#414554\"), (1, \"#30cc5a\")],\n",
    "                  color_continuous_midpoint=0, range_color=[-3,3])\n",
    "\n",
    "fig.data[0].customdata = fig.data[0].marker.colors\n",
    "fig.data[0].texttemplate = \"<b>%{label}</b><br>Market Cap: %{value:.0f} B<br>Change: %{customdata:.2f}%<br>\"\n",
    "fig.update_traces(hovertemplate='%{label}<br>Change=%{customdata:.2f}%')\n",
    "fig.update_traces(marker=dict(line=dict(width=1, color='#262931')))\n",
    "fig.update_layout({\n",
    "    'plot_bgcolor': 'rgba(0,0,0,0)',\n",
    "    'paper_bgcolor': 'rgba(0,0,0,0)'\n",
    "})\n",
    "fig.update_layout(margin = dict(t=50, l=25, r=25, b=25), autosize=True)\n",
    "print('Treemap')\n",
    "fig.show()"
   ]
  },
  {
   "cell_type": "code",
   "execution_count": null,
   "metadata": {},
   "outputs": [],
   "source": []
  }
 ],
 "metadata": {
  "kernelspec": {
   "display_name": "Python 3.9.12 ('base')",
   "language": "python",
   "name": "python3"
  },
  "language_info": {
   "codemirror_mode": {
    "name": "ipython",
    "version": 3
   },
   "file_extension": ".py",
   "mimetype": "text/x-python",
   "name": "python",
   "nbconvert_exporter": "python",
   "pygments_lexer": "ipython3",
   "version": "3.9.15"
  },
  "orig_nbformat": 4,
  "vscode": {
   "interpreter": {
    "hash": "ffc3148520511411f1d34b36c9ccc7e8dac3d66633b7259514787140c98550e6"
   }
  }
 },
 "nbformat": 4,
 "nbformat_minor": 2
}
